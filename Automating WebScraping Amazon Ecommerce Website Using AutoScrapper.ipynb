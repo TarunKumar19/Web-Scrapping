{
 "cells": [
  {
   "cell_type": "code",
   "execution_count": 1,
   "id": "73212e94",
   "metadata": {},
   "outputs": [
    {
     "name": "stdout",
     "output_type": "stream",
     "text": [
      "Defaulting to user installation because normal site-packages is not writeable\n",
      "Collecting autoscraper\n",
      "  Downloading autoscraper-1.1.14-py3-none-any.whl (10 kB)\n",
      "Collecting bs4\n",
      "  Downloading bs4-0.0.1.tar.gz (1.1 kB)\n",
      "  Preparing metadata (setup.py): started\n",
      "  Preparing metadata (setup.py): finished with status 'done'\n",
      "Requirement already satisfied: lxml in c:\\programdata\\anaconda3\\lib\\site-packages (from autoscraper) (4.8.0)\n",
      "Requirement already satisfied: requests in c:\\programdata\\anaconda3\\lib\\site-packages (from autoscraper) (2.27.1)\n",
      "Requirement already satisfied: beautifulsoup4 in c:\\programdata\\anaconda3\\lib\\site-packages (from bs4->autoscraper) (4.11.1)\n",
      "Requirement already satisfied: certifi>=2017.4.17 in c:\\programdata\\anaconda3\\lib\\site-packages (from requests->autoscraper) (2021.10.8)\n",
      "Requirement already satisfied: charset-normalizer~=2.0.0 in c:\\programdata\\anaconda3\\lib\\site-packages (from requests->autoscraper) (2.0.4)\n",
      "Requirement already satisfied: urllib3<1.27,>=1.21.1 in c:\\programdata\\anaconda3\\lib\\site-packages (from requests->autoscraper) (1.26.9)\n",
      "Requirement already satisfied: idna<4,>=2.5 in c:\\programdata\\anaconda3\\lib\\site-packages (from requests->autoscraper) (3.3)\n",
      "Requirement already satisfied: soupsieve>1.2 in c:\\programdata\\anaconda3\\lib\\site-packages (from beautifulsoup4->bs4->autoscraper) (2.3.1)\n",
      "Building wheels for collected packages: bs4\n",
      "  Building wheel for bs4 (setup.py): started\n",
      "  Building wheel for bs4 (setup.py): finished with status 'done'\n",
      "  Created wheel for bs4: filename=bs4-0.0.1-py3-none-any.whl size=1264 sha256=5730db73d297c00f24ba44bc6655553d01e44afa329f28b88c9039ea22da2926\n",
      "  Stored in directory: c:\\users\\ertar\\appdata\\local\\pip\\cache\\wheels\\8b\\ac\\c5\\cb646ab01df6f353a9994b1c97dffb94f9b12013d64c162c58\n",
      "Successfully built bs4\n",
      "Installing collected packages: bs4, autoscraper\n",
      "Successfully installed autoscraper-1.1.14 bs4-0.0.1\n"
     ]
    }
   ],
   "source": [
    "!pip install autoscraper"
   ]
  },
  {
   "cell_type": "code",
   "execution_count": 2,
   "id": "ecf64af8",
   "metadata": {},
   "outputs": [],
   "source": [
    "from autoscraper import AutoScraper"
   ]
  },
  {
   "cell_type": "code",
   "execution_count": 103,
   "id": "f28b7846",
   "metadata": {},
   "outputs": [],
   "source": [
    "amazon_url = \"https://www.amazon.in/s?k=iphone\"\n",
    "wanted_list = [\"₹55,990\",\"Apple iPhone 12 (64GB) - Purple\"]"
   ]
  },
  {
   "cell_type": "code",
   "execution_count": 104,
   "id": "53631861",
   "metadata": {},
   "outputs": [
    {
     "name": "stdout",
     "output_type": "stream",
     "text": [
      "['₹59,900', '₹64,900', '₹79,900', '₹55,990', '₹65,900', '₹1,39,900', '₹89,900', '₹75,990', '₹1,79,900', '₹93,990', '₹99,900', '₹1,07,900', '₹1,19,900', '₹74,900', 'Apple iPhone 12 (128GB) - Blue', 'Apple iPhone 5S 16GB Gold', 'Apple iPhone 14 128GB Midnight', 'Apple iPhone 14 Pro 128GB Space Black', 'Apple iPhone 12 (64GB) - Purple', 'Apple iPhone 14 Pro Max 128GB Space Black', 'Apple iPhone 12 (64GB) - White', 'Apple iPhone 13 (256GB) - Blue', 'Apple 5S (Space Grey, 16GB) iPhone', 'Apple iPhone 14 256GB Midnight', 'Apple iPhone 14 128GB (Product) RED', 'Apple iPhone 14 Pro 1TB Gold', 'Apple iPhone 14 Plus 256GB Blue', '5S (Space Grey, 16GB) Apple iPhone', 'Apple iPhone 13 Pro (128GB) - Graphite', 'Apple iPhone 5S (Space Grey, 16GB)', 'Apple iPhone 13 Mini (256GB) - (Product) RED']\n"
     ]
    }
   ],
   "source": [
    "scrapper =AutoScraper()\n",
    "result =scrapper.build(amazon_url , wanted_list)\n",
    "print(result)"
   ]
  },
  {
   "cell_type": "code",
   "execution_count": 105,
   "id": "5e746b59",
   "metadata": {},
   "outputs": [
    {
     "data": {
      "text/plain": [
       "{'rule_j6nu': ['₹59,900',\n",
       "  '₹64,900',\n",
       "  '₹79,900',\n",
       "  '₹55,990',\n",
       "  '₹65,900',\n",
       "  '₹1,39,900',\n",
       "  '₹55,990',\n",
       "  '₹65,900',\n",
       "  '₹89,900',\n",
       "  '₹75,990',\n",
       "  '₹79,900',\n",
       "  '₹1,39,900',\n",
       "  '₹1,79,900',\n",
       "  '₹93,990',\n",
       "  '₹99,900'],\n",
       " 'rule_qlch': ['₹59,900',\n",
       "  '₹64,900',\n",
       "  '₹79,900',\n",
       "  '₹55,990',\n",
       "  '₹65,900',\n",
       "  '₹1,39,900',\n",
       "  '₹55,990',\n",
       "  '₹65,900',\n",
       "  '₹89,900',\n",
       "  '₹75,990',\n",
       "  '₹79,900',\n",
       "  '₹1,39,900',\n",
       "  '₹1,79,900',\n",
       "  '₹93,990',\n",
       "  '₹99,900'],\n",
       " 'rule_3no2': ['₹59,900',\n",
       "  '₹64,900',\n",
       "  '₹79,900',\n",
       "  '₹55,990',\n",
       "  '₹65,900',\n",
       "  '₹1,39,900',\n",
       "  '₹55,990',\n",
       "  '₹65,900',\n",
       "  '₹89,900',\n",
       "  '₹75,990',\n",
       "  '₹79,900',\n",
       "  '₹1,39,900',\n",
       "  '₹1,79,900',\n",
       "  '₹93,990',\n",
       "  '₹99,900'],\n",
       " 'rule_etck': ['₹59,900',\n",
       "  '₹64,900',\n",
       "  '₹79,900',\n",
       "  '₹55,990',\n",
       "  '₹65,900',\n",
       "  '₹1,39,900',\n",
       "  '₹55,990',\n",
       "  '₹65,900',\n",
       "  '₹89,900',\n",
       "  '₹75,990',\n",
       "  '₹79,900',\n",
       "  '₹1,39,900',\n",
       "  '₹1,79,900',\n",
       "  '₹93,990',\n",
       "  '₹99,900'],\n",
       " 'rule_dedw': ['₹55,990', '₹65,900', '₹74,900'],\n",
       " 'rule_n7vh': ['₹55,990', '₹65,900', '₹74,900'],\n",
       " 'rule_sfd0': ['Apple iPhone 12 (128GB) - Blue',\n",
       "  'Apple iPhone 5S 16GB Gold',\n",
       "  'Apple iPhone 14 128GB Midnight',\n",
       "  'Apple iPhone 14 Pro 128GB Space Black',\n",
       "  'Apple iPhone 12 (64GB) - Purple',\n",
       "  'Apple iPhone 14 Pro Max 128GB Space Black',\n",
       "  'Apple iPhone 12 (64GB) - White',\n",
       "  'Apple iPhone 13 (256GB) - Blue',\n",
       "  'Apple 5S (Space Grey, 16GB) iPhone',\n",
       "  'Apple iPhone 14 256GB Midnight',\n",
       "  'Apple iPhone 14 128GB (Product) RED',\n",
       "  'Apple iPhone 14 Pro 256GB Silver',\n",
       "  'Apple iPhone 14 Pro 1TB Gold',\n",
       "  'Apple iPhone 14 Plus 256GB Blue',\n",
       "  'Apple iPhone 5S (Space Grey, 16GB)',\n",
       "  '5S (Space Grey, 16GB) Apple iPhone'],\n",
       " 'rule_t0ns': ['Apple iPhone 12 (128GB) - Blue',\n",
       "  'Apple iPhone 5S 16GB Gold',\n",
       "  'Apple iPhone 14 128GB Midnight',\n",
       "  'Apple iPhone 14 Pro 128GB Space Black',\n",
       "  'Apple iPhone 12 (64GB) - Purple',\n",
       "  'Apple iPhone 14 Pro Max 128GB Space Black',\n",
       "  'Apple iPhone 12 (64GB) - White',\n",
       "  'Apple iPhone 13 (256GB) - Blue',\n",
       "  'Apple 5S (Space Grey, 16GB) iPhone',\n",
       "  'Apple iPhone 14 256GB Midnight',\n",
       "  'Apple iPhone 14 128GB (Product) RED',\n",
       "  'Apple iPhone 14 Pro 256GB Silver',\n",
       "  'Apple iPhone 14 Pro 1TB Gold',\n",
       "  'Apple iPhone 14 Plus 256GB Blue',\n",
       "  'Apple iPhone 5S (Space Grey, 16GB)',\n",
       "  '5S (Space Grey, 16GB) Apple iPhone'],\n",
       " 'rule_uqz0': ['Apple iPhone 12 (64GB) - Purple',\n",
       "  'Apple iPhone 13 Mini (256GB) - (Product) RED']}"
      ]
     },
     "execution_count": 105,
     "metadata": {},
     "output_type": "execute_result"
    }
   ],
   "source": [
    "scrapper.get_result_similar(amazon_url ,grouped =True)"
   ]
  },
  {
   "cell_type": "code",
   "execution_count": 108,
   "id": "ec00ebb3",
   "metadata": {},
   "outputs": [],
   "source": [
    "scrapper.set_rule_aliases({'rule_sfd0' : 'Title' , 'rule_etck' : 'Price'})\n",
    "scrapper.keep_rules(['rule_sfd0' , 'rule_etck'])\n",
    "scrapper.save('amazon-search')"
   ]
  },
  {
   "cell_type": "code",
   "execution_count": 109,
   "id": "2deabe38",
   "metadata": {},
   "outputs": [],
   "source": [
    "results=scrapper.get_result_similar(\"https://www.amazon.in/s?k=mi+phone\" , group_by_alias=True)"
   ]
  },
  {
   "cell_type": "code",
   "execution_count": 113,
   "id": "30e87998",
   "metadata": {},
   "outputs": [
    {
     "data": {
      "text/plain": [
       "['Redmi A1 (Light Green, 2GB RAM 32GB ROM) | Segment Best AI Dual Cam | 5000mAh Battery | Leather Texture Design | Android 12',\n",
       " 'Redmi 10A (Charcoal Black, 4GB RAM, 64GB Storage) | 2 Ghz Octa Core Helio G25 | 5000 mAh Battery | Finger Print Sensor | Upto 5GB RAM with RAM Booster',\n",
       " 'Redmi Note 11 (Space Black, 6GB RAM, 128GB Storage)|90Hz FHD+ AMOLED Display | Qualcomm® SnapdragonTM 680-6nm | 33W Charger Included',\n",
       " 'Redmi Note 11 Pro + 5G (Stealth Black, 6GB RAM, 128GB Storage) | 67W Turbo Charge | 120Hz Super AMOLED Display | Additional Exchange Offers | Charger Included',\n",
       " 'Redmi Note 11 (Space Black, 6GB RAM, 64GB Storage) | 90Hz FHD+ AMOLED Display | Qualcomm® SnapdragonTM 680-6nm | 33W Charger Included',\n",
       " 'Redmi 11 Prime 5G (Chrome Silver, 4GB RAM 64GB ROM) | Prime Design | MTK Dimensity 700 | 50 MP Dual Cam | 5000mAh | 7 Band 5G',\n",
       " 'Redmi Note 11 (Space Black, 4GB RAM, 64GB Storage)|90Hz FHD+ AMOLED Display | Qualcomm® SnapdragonTM 680-6nm | 33W Charger Included',\n",
       " 'Redmi Note 11T 5G (Stardust White, 6GB RAM, 128GB ROM)| Dimensity 810 5G | 33W Pro Fast Charging | Charger Included | Additional Exchange Offers|Get 2 Months of YouTube Premium Free!',\n",
       " 'Redmi Note 11T 5G (Matte Black, 6GB RAM, 128GB ROM)| Dimensity 810 5G | 33W Pro Fast Charging | Charger Included | Additional Exchange Offers|Get 2 Months of YouTube Premium Free!',\n",
       " 'Redmi 10A (Slate Grey, 4GB RAM, 64GB Storage) | 2 Ghz Octa Core Helio G25 | 5000 mAh Battery | Finger Print Sensor | Upto 5GB RAM with RAM Booster',\n",
       " 'MI Redmi 9i Sport (Metallic Blue, 64 GB) (4 GB RAM)',\n",
       " 'MI REDMI 9i Sport (Coral Green, 64 GB) (4 GB RAM)',\n",
       " 'Redmi Note 11 (Starburst White, 6GB RAM, 128GB Storage)|90Hz FHD+ AMOLED Display | Qualcomm® SnapdragonTM 680-6nm | 33W Charger Included',\n",
       " 'Redmi 10 Power (Power Black, 8GB RAM, 128GB Storage)',\n",
       " 'MI REDMI 9i Sport (Carbon Black, 64 GB) (4 GB RAM)',\n",
       " 'Redmi 9A Sport (Carbon Black, 2GB RAM, 32GB Storage) | 2GHz Octa-core Helio G25 Processor | 5000 mAh Battery']"
      ]
     },
     "execution_count": 113,
     "metadata": {},
     "output_type": "execute_result"
    }
   ],
   "source": [
    "results['Title']"
   ]
  },
  {
   "cell_type": "code",
   "execution_count": 114,
   "id": "363a57ed",
   "metadata": {},
   "outputs": [
    {
     "data": {
      "text/plain": [
       "['₹6,499',\n",
       " '₹8,999',\n",
       " '₹8,999',\n",
       " '₹11,999',\n",
       " '₹14,499',\n",
       " '₹19,999',\n",
       " '₹19,999',\n",
       " '₹24,999',\n",
       " '₹12,999',\n",
       " '₹18,999',\n",
       " '₹13,999',\n",
       " '₹15,999',\n",
       " '₹12,999',\n",
       " '₹17,999',\n",
       " '₹16,999',\n",
       " '₹20,999',\n",
       " '₹16,999',\n",
       " '₹20,999',\n",
       " '₹8,999',\n",
       " '₹11,999',\n",
       " '₹7,920',\n",
       " '₹10,999',\n",
       " '₹7,874',\n",
       " '₹9,999',\n",
       " '₹14,499',\n",
       " '₹19,999',\n",
       " '₹12,499',\n",
       " '₹18,999',\n",
       " '₹7,925',\n",
       " '₹9,999',\n",
       " '₹6,499',\n",
       " '₹8,499']"
      ]
     },
     "execution_count": 114,
     "metadata": {},
     "output_type": "execute_result"
    }
   ],
   "source": [
    "results['Price']"
   ]
  },
  {
   "cell_type": "code",
   "execution_count": null,
   "id": "c1c0a9b5",
   "metadata": {},
   "outputs": [],
   "source": []
  },
  {
   "cell_type": "code",
   "execution_count": null,
   "id": "3fe1bef3",
   "metadata": {},
   "outputs": [],
   "source": []
  }
 ],
 "metadata": {
  "kernelspec": {
   "display_name": "Python 3 (ipykernel)",
   "language": "python",
   "name": "python3"
  },
  "language_info": {
   "codemirror_mode": {
    "name": "ipython",
    "version": 3
   },
   "file_extension": ".py",
   "mimetype": "text/x-python",
   "name": "python",
   "nbconvert_exporter": "python",
   "pygments_lexer": "ipython3",
   "version": "3.9.12"
  }
 },
 "nbformat": 4,
 "nbformat_minor": 5
}
